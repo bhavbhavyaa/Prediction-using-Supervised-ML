{
  "nbformat": 4,
  "nbformat_minor": 0,
  "metadata": {
    "colab": {
      "name": "Bhavyaa.ipynb",
      "provenance": []
    },
    "kernelspec": {
      "name": "python3",
      "display_name": "Python 3"
    }
  },
  "cells": [
    {
      "cell_type": "code",
      "metadata": {
        "id": "6ivljWjpVZen",
        "colab": {
          "base_uri": "https://localhost:8080/"
        },
        "outputId": "a4352ee7-50d7-42b4-bcbc-69d85fd71480"
      },
      "source": [
        "fashion_mnist = tf.keras.datasets.fashion_mnist\r\n",
        "(train_images, train_labels), (test_images, test_labels) = fashion_mnist.load_data()"
      ],
      "execution_count": null,
      "outputs": [
        {
          "output_type": "stream",
          "text": [
            "Downloading data from https://storage.googleapis.com/tensorflow/tf-keras-datasets/train-labels-idx1-ubyte.gz\n",
            "32768/29515 [=================================] - 0s 0us/step\n",
            "Downloading data from https://storage.googleapis.com/tensorflow/tf-keras-datasets/train-images-idx3-ubyte.gz\n",
            "26427392/26421880 [==============================] - 0s 0us/step\n",
            "Downloading data from https://storage.googleapis.com/tensorflow/tf-keras-datasets/t10k-labels-idx1-ubyte.gz\n",
            "8192/5148 [===============================================] - 0s 0us/step\n",
            "Downloading data from https://storage.googleapis.com/tensorflow/tf-keras-datasets/t10k-images-idx3-ubyte.gz\n",
            "4423680/4422102 [==============================] - 0s 0us/step\n"
          ],
          "name": "stdout"
        }
      ]
    },
    {
      "cell_type": "code",
      "metadata": {
        "id": "2Hg9OqKzScNz"
      },
      "source": [
        "import tensorflow as tf\r\n",
        "from tensorflow.keras.models import Sequential\r\n",
        "from tensorflow.keras.layers import Input, Dense\r\n",
        "import numpy as np"
      ],
      "execution_count": null,
      "outputs": []
    },
    {
      "cell_type": "code",
      "metadata": {
        "colab": {
          "base_uri": "https://localhost:8080/"
        },
        "id": "kRqwtE6JWUAD",
        "outputId": "1733f88b-9ca6-45c7-9cb0-2234033c564a"
      },
      "source": [
        "train_images[0].shape"
      ],
      "execution_count": null,
      "outputs": [
        {
          "output_type": "execute_result",
          "data": {
            "text/plain": [
              "(28, 28)"
            ]
          },
          "metadata": {
            "tags": []
          },
          "execution_count": 12
        }
      ]
    },
    {
      "cell_type": "code",
      "metadata": {
        "id": "CI1HaV1ZWoKY"
      },
      "source": [
        "train_images = train_images.reshape((train_images.shape[0],28*28)).astype('float32')\r\n",
        "test_images = test_images.reshape((test_images.shape[0],28*28)).astype('float32')"
      ],
      "execution_count": null,
      "outputs": []
    },
    {
      "cell_type": "code",
      "metadata": {
        "id": "1zXCBHcQXUug"
      },
      "source": [
        "train_images= train_images/255\r\n",
        "test_images = test_images/255"
      ],
      "execution_count": null,
      "outputs": []
    },
    {
      "cell_type": "code",
      "metadata": {
        "colab": {
          "base_uri": "https://localhost:8080/"
        },
        "id": "nz1h8LIQXhdi",
        "outputId": "f1c49509-49ce-449b-8df6-60c4d36b41f5"
      },
      "source": [
        "from keras.utils import np_utils\r\n",
        "train_labels = np_utils.to_categorical(train_labels)\r\n",
        "test_labels = np_utils.to_categorical(test_labels)\r\n",
        "num_classes = test_labels.shape[1]\r\n",
        "num_classes"
      ],
      "execution_count": null,
      "outputs": [
        {
          "output_type": "execute_result",
          "data": {
            "text/plain": [
              "10"
            ]
          },
          "metadata": {
            "tags": []
          },
          "execution_count": 5
        }
      ]
    },
    {
      "cell_type": "code",
      "metadata": {
        "id": "WwnTAGnpYdOw"
      },
      "source": [
        "from keras.models import Sequential\r\n",
        "from keras.layers import Input, Dense\r\n",
        "from keras.layers import Dropout"
      ],
      "execution_count": null,
      "outputs": []
    },
    {
      "cell_type": "code",
      "metadata": {
        "id": "J4mdQ3Y2Yriv"
      },
      "source": [
        "model = Sequential()\r\n",
        "model.add(Dense(32, input_dim = 28*28, activation = 'relu'))\r\n",
        "model.add(Dense(64, activation = 'relu'))\r\n",
        "model.add(Dense(128,activation = 'relu'))\r\n",
        "model.add(Dense(16, activation = 'relu'))\r\n",
        "model.add(Dense(10, activation = 'softmax'))"
      ],
      "execution_count": null,
      "outputs": []
    },
    {
      "cell_type": "code",
      "metadata": {
        "id": "w3RmVf3pZqHQ"
      },
      "source": [
        "model.compile(loss='categorical_crossentropy', optimizer='adam', metrics= ['accuracy'])"
      ],
      "execution_count": null,
      "outputs": []
    },
    {
      "cell_type": "code",
      "metadata": {
        "colab": {
          "base_uri": "https://localhost:8080/"
        },
        "id": "_rrKVqE-aB9a",
        "outputId": "b4ef46ca-6a16-4fe0-fe2f-bf0d81e26ad8"
      },
      "source": [
        "model.summary()"
      ],
      "execution_count": null,
      "outputs": [
        {
          "output_type": "stream",
          "text": [
            "Model: \"sequential\"\n",
            "_________________________________________________________________\n",
            "Layer (type)                 Output Shape              Param #   \n",
            "=================================================================\n",
            "dense (Dense)                (None, 32)                25120     \n",
            "_________________________________________________________________\n",
            "dense_1 (Dense)              (None, 64)                2112      \n",
            "_________________________________________________________________\n",
            "dense_2 (Dense)              (None, 128)               8320      \n",
            "_________________________________________________________________\n",
            "dense_3 (Dense)              (None, 16)                2064      \n",
            "_________________________________________________________________\n",
            "dense_4 (Dense)              (None, 10)                170       \n",
            "=================================================================\n",
            "Total params: 37,786\n",
            "Trainable params: 37,786\n",
            "Non-trainable params: 0\n",
            "_________________________________________________________________\n"
          ],
          "name": "stdout"
        }
      ]
    },
    {
      "cell_type": "code",
      "metadata": {
        "colab": {
          "base_uri": "https://localhost:8080/"
        },
        "id": "9iM3XP4SaS-j",
        "outputId": "727a124f-e6d7-4c6a-d5d5-bafc0f991d52"
      },
      "source": [
        "model.fit(train_images, train_labels,validation_split=0.2, epochs=100, batch_size=100)"
      ],
      "execution_count": null,
      "outputs": [
        {
          "output_type": "stream",
          "text": [
            "Epoch 1/100\n",
            "480/480 [==============================] - 2s 3ms/step - loss: 4.2245 - accuracy: 0.3917 - val_loss: 1.2077 - val_accuracy: 0.5696\n",
            "Epoch 2/100\n",
            "480/480 [==============================] - 1s 3ms/step - loss: 1.1050 - accuracy: 0.6209 - val_loss: 0.8549 - val_accuracy: 0.7119\n",
            "Epoch 3/100\n",
            "480/480 [==============================] - 1s 3ms/step - loss: 0.8022 - accuracy: 0.7306 - val_loss: 0.7001 - val_accuracy: 0.7593\n",
            "Epoch 4/100\n",
            "480/480 [==============================] - 1s 3ms/step - loss: 0.6337 - accuracy: 0.7801 - val_loss: 0.6046 - val_accuracy: 0.7840\n",
            "Epoch 5/100\n",
            "480/480 [==============================] - 1s 3ms/step - loss: 0.5802 - accuracy: 0.7872 - val_loss: 0.5917 - val_accuracy: 0.7836\n",
            "Epoch 6/100\n",
            "480/480 [==============================] - 1s 3ms/step - loss: 0.5462 - accuracy: 0.7923 - val_loss: 0.5877 - val_accuracy: 0.7772\n",
            "Epoch 7/100\n",
            "480/480 [==============================] - 1s 3ms/step - loss: 0.5261 - accuracy: 0.8012 - val_loss: 0.5360 - val_accuracy: 0.8016\n",
            "Epoch 8/100\n",
            "480/480 [==============================] - 1s 3ms/step - loss: 0.5090 - accuracy: 0.8073 - val_loss: 0.5178 - val_accuracy: 0.8083\n",
            "Epoch 9/100\n",
            "480/480 [==============================] - 1s 3ms/step - loss: 0.4853 - accuracy: 0.8154 - val_loss: 0.5197 - val_accuracy: 0.8143\n",
            "Epoch 10/100\n",
            "480/480 [==============================] - 1s 3ms/step - loss: 0.4762 - accuracy: 0.8200 - val_loss: 0.5102 - val_accuracy: 0.8136\n",
            "Epoch 11/100\n",
            "480/480 [==============================] - 1s 3ms/step - loss: 0.4685 - accuracy: 0.8236 - val_loss: 0.5009 - val_accuracy: 0.8248\n",
            "Epoch 12/100\n",
            "480/480 [==============================] - 1s 3ms/step - loss: 0.4561 - accuracy: 0.8295 - val_loss: 0.5439 - val_accuracy: 0.8019\n",
            "Epoch 13/100\n",
            "480/480 [==============================] - 1s 3ms/step - loss: 0.4480 - accuracy: 0.8346 - val_loss: 0.4828 - val_accuracy: 0.8339\n",
            "Epoch 14/100\n",
            "480/480 [==============================] - 1s 3ms/step - loss: 0.4364 - accuracy: 0.8431 - val_loss: 0.4968 - val_accuracy: 0.8240\n",
            "Epoch 15/100\n",
            "480/480 [==============================] - 1s 3ms/step - loss: 0.4216 - accuracy: 0.8481 - val_loss: 0.4707 - val_accuracy: 0.8277\n",
            "Epoch 16/100\n",
            "480/480 [==============================] - 1s 3ms/step - loss: 0.4119 - accuracy: 0.8507 - val_loss: 0.4546 - val_accuracy: 0.8369\n",
            "Epoch 17/100\n",
            "480/480 [==============================] - 1s 3ms/step - loss: 0.3955 - accuracy: 0.8541 - val_loss: 0.4490 - val_accuracy: 0.8462\n",
            "Epoch 18/100\n",
            "480/480 [==============================] - 1s 3ms/step - loss: 0.3856 - accuracy: 0.8592 - val_loss: 0.4393 - val_accuracy: 0.8477\n",
            "Epoch 19/100\n",
            "480/480 [==============================] - 2s 3ms/step - loss: 0.3814 - accuracy: 0.8597 - val_loss: 0.4461 - val_accuracy: 0.8447\n",
            "Epoch 20/100\n",
            "480/480 [==============================] - 2s 3ms/step - loss: 0.3809 - accuracy: 0.8605 - val_loss: 0.4683 - val_accuracy: 0.8400\n",
            "Epoch 21/100\n",
            "480/480 [==============================] - 1s 3ms/step - loss: 0.3666 - accuracy: 0.8652 - val_loss: 0.4640 - val_accuracy: 0.8395\n",
            "Epoch 22/100\n",
            "480/480 [==============================] - 2s 3ms/step - loss: 0.3610 - accuracy: 0.8668 - val_loss: 0.4384 - val_accuracy: 0.8480\n",
            "Epoch 23/100\n",
            "480/480 [==============================] - 1s 3ms/step - loss: 0.3562 - accuracy: 0.8674 - val_loss: 0.4276 - val_accuracy: 0.8532\n",
            "Epoch 24/100\n",
            "480/480 [==============================] - 1s 3ms/step - loss: 0.3515 - accuracy: 0.8693 - val_loss: 0.4227 - val_accuracy: 0.8533\n",
            "Epoch 25/100\n",
            "480/480 [==============================] - 2s 3ms/step - loss: 0.3445 - accuracy: 0.8715 - val_loss: 0.4183 - val_accuracy: 0.8541\n",
            "Epoch 26/100\n",
            "480/480 [==============================] - 1s 3ms/step - loss: 0.3412 - accuracy: 0.8722 - val_loss: 0.4163 - val_accuracy: 0.8566\n",
            "Epoch 27/100\n",
            "480/480 [==============================] - 2s 3ms/step - loss: 0.3286 - accuracy: 0.8749 - val_loss: 0.4220 - val_accuracy: 0.8576\n",
            "Epoch 28/100\n",
            "480/480 [==============================] - 1s 3ms/step - loss: 0.3358 - accuracy: 0.8750 - val_loss: 0.4288 - val_accuracy: 0.8533\n",
            "Epoch 29/100\n",
            "480/480 [==============================] - 2s 3ms/step - loss: 0.3297 - accuracy: 0.8756 - val_loss: 0.4097 - val_accuracy: 0.8615\n",
            "Epoch 30/100\n",
            "480/480 [==============================] - 1s 3ms/step - loss: 0.3234 - accuracy: 0.8794 - val_loss: 0.4195 - val_accuracy: 0.8601\n",
            "Epoch 31/100\n",
            "480/480 [==============================] - 1s 3ms/step - loss: 0.3184 - accuracy: 0.8815 - val_loss: 0.4097 - val_accuracy: 0.8630\n",
            "Epoch 32/100\n",
            "480/480 [==============================] - 1s 3ms/step - loss: 0.3190 - accuracy: 0.8805 - val_loss: 0.4427 - val_accuracy: 0.8495\n",
            "Epoch 33/100\n",
            "480/480 [==============================] - 1s 3ms/step - loss: 0.3073 - accuracy: 0.8818 - val_loss: 0.4265 - val_accuracy: 0.8583\n",
            "Epoch 34/100\n",
            "480/480 [==============================] - 1s 3ms/step - loss: 0.3155 - accuracy: 0.8827 - val_loss: 0.4220 - val_accuracy: 0.8543\n",
            "Epoch 35/100\n",
            "480/480 [==============================] - 1s 3ms/step - loss: 0.3057 - accuracy: 0.8828 - val_loss: 0.4318 - val_accuracy: 0.8598\n",
            "Epoch 36/100\n",
            "480/480 [==============================] - 1s 3ms/step - loss: 0.3153 - accuracy: 0.8812 - val_loss: 0.4327 - val_accuracy: 0.8563\n",
            "Epoch 37/100\n",
            "480/480 [==============================] - 1s 3ms/step - loss: 0.3002 - accuracy: 0.8857 - val_loss: 0.4719 - val_accuracy: 0.8480\n",
            "Epoch 38/100\n",
            "480/480 [==============================] - 1s 3ms/step - loss: 0.3111 - accuracy: 0.8828 - val_loss: 0.4140 - val_accuracy: 0.8667\n",
            "Epoch 39/100\n",
            "480/480 [==============================] - 2s 3ms/step - loss: 0.2974 - accuracy: 0.8886 - val_loss: 0.3902 - val_accuracy: 0.8664\n",
            "Epoch 40/100\n",
            "480/480 [==============================] - 1s 3ms/step - loss: 0.2874 - accuracy: 0.8910 - val_loss: 0.4108 - val_accuracy: 0.8616\n",
            "Epoch 41/100\n",
            "480/480 [==============================] - 1s 3ms/step - loss: 0.2875 - accuracy: 0.8906 - val_loss: 0.4540 - val_accuracy: 0.8607\n",
            "Epoch 42/100\n",
            "480/480 [==============================] - 1s 3ms/step - loss: 0.2934 - accuracy: 0.8902 - val_loss: 0.4242 - val_accuracy: 0.8587\n",
            "Epoch 43/100\n",
            "480/480 [==============================] - 1s 3ms/step - loss: 0.2861 - accuracy: 0.8949 - val_loss: 0.4232 - val_accuracy: 0.8602\n",
            "Epoch 44/100\n",
            "480/480 [==============================] - 1s 3ms/step - loss: 0.2890 - accuracy: 0.8894 - val_loss: 0.4153 - val_accuracy: 0.8710\n",
            "Epoch 45/100\n",
            "480/480 [==============================] - 1s 3ms/step - loss: 0.2768 - accuracy: 0.8943 - val_loss: 0.4092 - val_accuracy: 0.8639\n",
            "Epoch 46/100\n",
            "480/480 [==============================] - 1s 3ms/step - loss: 0.2791 - accuracy: 0.8955 - val_loss: 0.4459 - val_accuracy: 0.8637\n",
            "Epoch 47/100\n",
            "480/480 [==============================] - 1s 3ms/step - loss: 0.2866 - accuracy: 0.8920 - val_loss: 0.4196 - val_accuracy: 0.8655\n",
            "Epoch 48/100\n",
            "480/480 [==============================] - 1s 3ms/step - loss: 0.2738 - accuracy: 0.8957 - val_loss: 0.4344 - val_accuracy: 0.8637\n",
            "Epoch 49/100\n",
            "480/480 [==============================] - 1s 3ms/step - loss: 0.2759 - accuracy: 0.8948 - val_loss: 0.4076 - val_accuracy: 0.8698\n",
            "Epoch 50/100\n",
            "480/480 [==============================] - 1s 3ms/step - loss: 0.2708 - accuracy: 0.8980 - val_loss: 0.4041 - val_accuracy: 0.8662\n",
            "Epoch 51/100\n",
            "480/480 [==============================] - 1s 3ms/step - loss: 0.2713 - accuracy: 0.8974 - val_loss: 0.4370 - val_accuracy: 0.8693\n",
            "Epoch 52/100\n",
            "480/480 [==============================] - 1s 3ms/step - loss: 0.2760 - accuracy: 0.8948 - val_loss: 0.4249 - val_accuracy: 0.8668\n",
            "Epoch 53/100\n",
            "480/480 [==============================] - 1s 3ms/step - loss: 0.2664 - accuracy: 0.8988 - val_loss: 0.4096 - val_accuracy: 0.8681\n",
            "Epoch 54/100\n",
            "480/480 [==============================] - 1s 3ms/step - loss: 0.2691 - accuracy: 0.8991 - val_loss: 0.4419 - val_accuracy: 0.8635\n",
            "Epoch 55/100\n",
            "480/480 [==============================] - 1s 3ms/step - loss: 0.2679 - accuracy: 0.8986 - val_loss: 0.4272 - val_accuracy: 0.8658\n",
            "Epoch 56/100\n",
            "480/480 [==============================] - 1s 3ms/step - loss: 0.2578 - accuracy: 0.9016 - val_loss: 0.4320 - val_accuracy: 0.8669\n",
            "Epoch 57/100\n",
            "480/480 [==============================] - 1s 3ms/step - loss: 0.2667 - accuracy: 0.9011 - val_loss: 0.4551 - val_accuracy: 0.8612\n",
            "Epoch 58/100\n",
            "480/480 [==============================] - 1s 3ms/step - loss: 0.2628 - accuracy: 0.8994 - val_loss: 0.4667 - val_accuracy: 0.8597\n",
            "Epoch 59/100\n",
            "480/480 [==============================] - 1s 3ms/step - loss: 0.2703 - accuracy: 0.8972 - val_loss: 0.4345 - val_accuracy: 0.8703\n",
            "Epoch 60/100\n",
            "480/480 [==============================] - 2s 3ms/step - loss: 0.2579 - accuracy: 0.9016 - val_loss: 0.4423 - val_accuracy: 0.8662\n",
            "Epoch 61/100\n",
            "480/480 [==============================] - 1s 3ms/step - loss: 0.2623 - accuracy: 0.9014 - val_loss: 0.4405 - val_accuracy: 0.8657\n",
            "Epoch 62/100\n",
            "480/480 [==============================] - 1s 3ms/step - loss: 0.2601 - accuracy: 0.9010 - val_loss: 0.4464 - val_accuracy: 0.8648\n",
            "Epoch 63/100\n",
            "480/480 [==============================] - 1s 3ms/step - loss: 0.2537 - accuracy: 0.9045 - val_loss: 0.4468 - val_accuracy: 0.8671\n",
            "Epoch 64/100\n",
            "480/480 [==============================] - 1s 3ms/step - loss: 0.2490 - accuracy: 0.9042 - val_loss: 0.4431 - val_accuracy: 0.8714\n",
            "Epoch 65/100\n",
            "480/480 [==============================] - 1s 3ms/step - loss: 0.2623 - accuracy: 0.9022 - val_loss: 0.4587 - val_accuracy: 0.8712\n",
            "Epoch 66/100\n",
            "480/480 [==============================] - 1s 3ms/step - loss: 0.2507 - accuracy: 0.9033 - val_loss: 0.4590 - val_accuracy: 0.8686\n",
            "Epoch 67/100\n",
            "480/480 [==============================] - 1s 3ms/step - loss: 0.2461 - accuracy: 0.9069 - val_loss: 0.4407 - val_accuracy: 0.8718\n",
            "Epoch 68/100\n",
            "480/480 [==============================] - 2s 3ms/step - loss: 0.2462 - accuracy: 0.9075 - val_loss: 0.4486 - val_accuracy: 0.8706\n",
            "Epoch 69/100\n",
            "480/480 [==============================] - 1s 3ms/step - loss: 0.2571 - accuracy: 0.9045 - val_loss: 0.4650 - val_accuracy: 0.8627\n",
            "Epoch 70/100\n",
            "480/480 [==============================] - 1s 3ms/step - loss: 0.2496 - accuracy: 0.9044 - val_loss: 0.4467 - val_accuracy: 0.8691\n",
            "Epoch 71/100\n",
            "480/480 [==============================] - 1s 3ms/step - loss: 0.2457 - accuracy: 0.9066 - val_loss: 0.4347 - val_accuracy: 0.8682\n",
            "Epoch 72/100\n",
            "480/480 [==============================] - 1s 3ms/step - loss: 0.2357 - accuracy: 0.9098 - val_loss: 0.4366 - val_accuracy: 0.8745\n",
            "Epoch 73/100\n",
            "480/480 [==============================] - 1s 3ms/step - loss: 0.2364 - accuracy: 0.9100 - val_loss: 0.4632 - val_accuracy: 0.8633\n",
            "Epoch 74/100\n",
            "480/480 [==============================] - 2s 3ms/step - loss: 0.2508 - accuracy: 0.9063 - val_loss: 0.4715 - val_accuracy: 0.8651\n",
            "Epoch 75/100\n",
            "480/480 [==============================] - 1s 3ms/step - loss: 0.2457 - accuracy: 0.9078 - val_loss: 0.4642 - val_accuracy: 0.8697\n",
            "Epoch 76/100\n",
            "480/480 [==============================] - 1s 3ms/step - loss: 0.2393 - accuracy: 0.9085 - val_loss: 0.5436 - val_accuracy: 0.8650\n",
            "Epoch 77/100\n",
            "480/480 [==============================] - 1s 3ms/step - loss: 0.2392 - accuracy: 0.9101 - val_loss: 0.4881 - val_accuracy: 0.8637\n",
            "Epoch 78/100\n",
            "480/480 [==============================] - 1s 3ms/step - loss: 0.2399 - accuracy: 0.9086 - val_loss: 0.4711 - val_accuracy: 0.8698\n",
            "Epoch 79/100\n",
            "480/480 [==============================] - 1s 3ms/step - loss: 0.2361 - accuracy: 0.9100 - val_loss: 0.4527 - val_accuracy: 0.8676\n",
            "Epoch 80/100\n",
            "480/480 [==============================] - 1s 3ms/step - loss: 0.2405 - accuracy: 0.9087 - val_loss: 0.4795 - val_accuracy: 0.8723\n",
            "Epoch 81/100\n",
            "480/480 [==============================] - 1s 3ms/step - loss: 0.2428 - accuracy: 0.9078 - val_loss: 0.4646 - val_accuracy: 0.8676\n",
            "Epoch 82/100\n",
            "480/480 [==============================] - 1s 3ms/step - loss: 0.2350 - accuracy: 0.9118 - val_loss: 0.4701 - val_accuracy: 0.8685\n",
            "Epoch 83/100\n",
            "480/480 [==============================] - 1s 3ms/step - loss: 0.2302 - accuracy: 0.9128 - val_loss: 0.4863 - val_accuracy: 0.8672\n",
            "Epoch 84/100\n",
            "480/480 [==============================] - 1s 3ms/step - loss: 0.2298 - accuracy: 0.9116 - val_loss: 0.4908 - val_accuracy: 0.8633\n",
            "Epoch 85/100\n",
            "480/480 [==============================] - 1s 3ms/step - loss: 0.2338 - accuracy: 0.9132 - val_loss: 0.4850 - val_accuracy: 0.8683\n",
            "Epoch 86/100\n",
            "480/480 [==============================] - 1s 3ms/step - loss: 0.2292 - accuracy: 0.9124 - val_loss: 0.4867 - val_accuracy: 0.8708\n",
            "Epoch 87/100\n",
            "480/480 [==============================] - 2s 3ms/step - loss: 0.2357 - accuracy: 0.9085 - val_loss: 0.4652 - val_accuracy: 0.8725\n",
            "Epoch 88/100\n",
            "480/480 [==============================] - 1s 3ms/step - loss: 0.2314 - accuracy: 0.9129 - val_loss: 0.4926 - val_accuracy: 0.8682\n",
            "Epoch 89/100\n",
            "480/480 [==============================] - 1s 3ms/step - loss: 0.2263 - accuracy: 0.9157 - val_loss: 0.4782 - val_accuracy: 0.8706\n",
            "Epoch 90/100\n",
            "480/480 [==============================] - 1s 3ms/step - loss: 0.2322 - accuracy: 0.9121 - val_loss: 0.4973 - val_accuracy: 0.8618\n",
            "Epoch 91/100\n",
            "480/480 [==============================] - 1s 3ms/step - loss: 0.2275 - accuracy: 0.9123 - val_loss: 0.5108 - val_accuracy: 0.8715\n",
            "Epoch 92/100\n",
            "480/480 [==============================] - 1s 3ms/step - loss: 0.2300 - accuracy: 0.9106 - val_loss: 0.4714 - val_accuracy: 0.8667\n",
            "Epoch 93/100\n",
            "480/480 [==============================] - 2s 3ms/step - loss: 0.2415 - accuracy: 0.9089 - val_loss: 0.5113 - val_accuracy: 0.8708\n",
            "Epoch 94/100\n",
            "480/480 [==============================] - 1s 3ms/step - loss: 0.2196 - accuracy: 0.9157 - val_loss: 0.5280 - val_accuracy: 0.8698\n",
            "Epoch 95/100\n",
            "480/480 [==============================] - 1s 3ms/step - loss: 0.2219 - accuracy: 0.9160 - val_loss: 0.5056 - val_accuracy: 0.8687\n",
            "Epoch 96/100\n",
            "480/480 [==============================] - 1s 3ms/step - loss: 0.2313 - accuracy: 0.9130 - val_loss: 0.4956 - val_accuracy: 0.8709\n",
            "Epoch 97/100\n",
            "480/480 [==============================] - 1s 3ms/step - loss: 0.2221 - accuracy: 0.9145 - val_loss: 0.5184 - val_accuracy: 0.8701\n",
            "Epoch 98/100\n",
            "480/480 [==============================] - 1s 3ms/step - loss: 0.2225 - accuracy: 0.9154 - val_loss: 0.4925 - val_accuracy: 0.8697\n",
            "Epoch 99/100\n",
            "480/480 [==============================] - 1s 3ms/step - loss: 0.2219 - accuracy: 0.9155 - val_loss: 0.4916 - val_accuracy: 0.8662\n",
            "Epoch 100/100\n",
            "480/480 [==============================] - 2s 3ms/step - loss: 0.2219 - accuracy: 0.9165 - val_loss: 0.4935 - val_accuracy: 0.8671\n"
          ],
          "name": "stdout"
        },
        {
          "output_type": "execute_result",
          "data": {
            "text/plain": [
              "<tensorflow.python.keras.callbacks.History at 0x7f4488987780>"
            ]
          },
          "metadata": {
            "tags": []
          },
          "execution_count": 11
        }
      ]
    },
    {
      "cell_type": "code",
      "metadata": {
        "colab": {
          "base_uri": "https://localhost:8080/"
        },
        "id": "YHSCQRqMa2yi",
        "outputId": "cf55afc0-fd07-4c8f-dffd-97313b16ce6e"
      },
      "source": [
        "scores = model.evaluate(train_images, train_labels)\r\n",
        "print(scores)"
      ],
      "execution_count": null,
      "outputs": [
        {
          "output_type": "stream",
          "text": [
            "1875/1875 [==============================] - 3s 1ms/step - loss: 0.2735 - accuracy: 0.9062\n",
            "[0.27349233627319336, 0.9061833620071411]\n"
          ],
          "name": "stdout"
        }
      ]
    },
    {
      "cell_type": "code",
      "metadata": {
        "id": "tfSjqWfnbOzx"
      },
      "source": [
        "predictions = model.predict(test_images)\r\n",
        "label =[]\r\n",
        "for pred in predictions:\r\n",
        "  max_value = max(pred)\r\n",
        "  for(i,p) in enumerate(pred):\r\n",
        "    if(p == max_value):\r\n",
        "      label.append(i)\r\n"
      ],
      "execution_count": null,
      "outputs": []
    }
  ]
}